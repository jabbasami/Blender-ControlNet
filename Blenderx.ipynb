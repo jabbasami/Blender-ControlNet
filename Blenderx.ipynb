{
  "nbformat": 4,
  "nbformat_minor": 0,
  "metadata": {
    "colab": {
      "private_outputs": true,
      "provenance": [],
      "gpuType": "T4",
      "authorship_tag": "ABX9TyMG0/+92VZ0ah3Dns61CbDH",
      "include_colab_link": true
    },
    "kernelspec": {
      "name": "python3",
      "display_name": "Python 3"
    },
    "language_info": {
      "name": "python"
    },
    "accelerator": "GPU",
    "gpuClass": "standard"
  },
  "cells": [
    {
      "cell_type": "markdown",
      "metadata": {
        "id": "view-in-github",
        "colab_type": "text"
      },
      "source": [
        "<a href=\"https://colab.research.google.com/github/jabbasami/Blender-ControlNet/blob/main/Blenderx.ipynb\" target=\"_parent\"><img src=\"https://colab.research.google.com/assets/colab-badge.svg\" alt=\"Open In Colab\"/></a>"
      ]
    },
    {
      "cell_type": "code",
      "source": [
        "#Connect Google Drive to Google Colab\n",
        "#=====================================\n",
        "from google.colab import drive\n",
        "drive.mount('/content/drive')\n",
        "     "
      ],
      "metadata": {
        "id": "y6_YvIAYiygL"
      },
      "execution_count": null,
      "outputs": []
    },
    {
      "cell_type": "code",
      "source": [
        "#Download Blender from Blender Repository. \n",
        "#Other Versions are here: https://download.blender.org/release/\n",
        "#=====================================\n",
        "!wget https://builder.blender.org/download/daily/blender-3.5.1-stable+v35.6ee8aa4997ee-linux.x86_64-release.tar.xz"
      ],
      "metadata": {
        "id": "W0v-lcJvlSt0"
      },
      "execution_count": null,
      "outputs": []
    },
    {
      "cell_type": "code",
      "source": [
        "#Unzip Blender \n",
        "#=====================================\n",
        "!tar xf blender-3.5.1-stable+v35.6ee8aa4997ee-linux.x86_64-release.tar.xz"
      ],
      "metadata": {
        "id": "Be1vO7orl_96"
      },
      "execution_count": null,
      "outputs": []
    },
    {
      "cell_type": "code",
      "source": [
        "#Deletes the Default libtcmalloc-minimal4 version and installs the Ubuntu default version\n",
        "import os\n",
        "\n",
        "os.environ[\"LD_PRELOAD\"] = \"\"\n",
        "\n",
        "#Deletes wrong Version of libtcmalloc-minimal4\n",
        "!apt remove libtcmalloc-minimal4\n",
        "#Installs correct version of libtcmalloc-minimal4\n",
        "!apt install libtcmalloc-minimal4\n",
        "\n",
        "#Adds this library to the user environment\n",
        "os.environ[\"LD_PRELOAD\"] = \"/usr/lib/x86_64-linux-gnu/libtcmalloc_minimal.so.4.3.0\"\n"
      ],
      "metadata": {
        "id": "jNmgn9GjmAES"
      },
      "execution_count": null,
      "outputs": []
    },
    {
      "cell_type": "code",
      "source": [
        "#Path of Blender File to be Rendered \n",
        "#===========================\n",
        "filename = '/content/drive/MyDrive/BlenderColab.blend'\n",
        "     "
      ],
      "metadata": {
        "id": "adDTaJiMmAJy"
      },
      "execution_count": null,
      "outputs": []
    },
    {
      "cell_type": "code",
      "source": [
        "#Render Single Frame: Change -f 1 to -f 100 to render frame 100 for example\n",
        "#===========================================================================\n",
        "#!./blender-2.93.5-linux-x64/blender -b $filename -noaudio -E 'CYCLES' --debug-all -o \"/content/drive/MyDrive/Blender\" -f 1 -F 'PNG' -- --cycles-device CUDA\n",
        "\n",
        "#Render Single Frame using OPTIX, if GPU supports it, otherwise use CUDA. \n",
        "#===========================================================================\n",
        "#!./blender-2.93.5-linux-x64/blender -b $filename -noaudio -E 'CYCLES' -o \"/content/drive/MyDrive/Blender\" -f 1 -F 'PNG' -- --cycles-device OPTIX\n",
        "\n",
        "#Render Animation: -s 1 and -e 250 means, render frames 1 to 250 of animation, -a means render animation. Animation will be rendered in whatever format was chosen in blender file. i.e. MP4\n",
        "#===========================================================================\n",
        "!./blender-2.93.5-linux-x64/blender -b $filename -noaudio -E 'CYCLES' -o \"/content/drive/MyDrive/Blender\" -s 0 -e 200 -a -- --cycl"
      ],
      "metadata": {
        "id": "q1NlxhQqmAOC"
      },
      "execution_count": null,
      "outputs": []
    },
    {
      "cell_type": "code",
      "source": [
        "#Uncomment to Check NVidia GPU Status. i.e. What GPU you are using\n",
        "#=================================================================\n",
        "#!nvidia-smi"
      ],
      "metadata": {
        "id": "n5d43t-wmASD"
      },
      "execution_count": null,
      "outputs": []
    }
  ]
}